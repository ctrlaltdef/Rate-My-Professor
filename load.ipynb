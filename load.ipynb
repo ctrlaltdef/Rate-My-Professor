{
 "cells": [
  {
   "cell_type": "code",
   "execution_count": null,
   "metadata": {},
   "outputs": [],
   "source": [
    "from dotenv import load_dotenv\n",
    "load_dotenv()\n",
    "import os\n",
    "import google.generativeai as genai\n",
    "from pinecone import Pinecone, ServerlessSpec\n"
   ]
  },
  {
   "cell_type": "code",
   "execution_count": null,
   "metadata": {},
   "outputs": [],
   "source": [
    "pc = Pinecone(api_key= os.getenv(\"PINECONE_API_KEY\"))\n",
    "pc.create_index(\n",
    "    name=\"rag\", dimension=1536, metric=\"cosine\", spec=ServerlessSpec(cloud=\"aws\", region=\"us-east-1\")\n",
    ")"
   ]
  },
  {
   "cell_type": "code",
   "execution_count": 1,
   "metadata": {},
   "outputs": [
    {
     "data": {
      "text/plain": [
       "[{'professor': 'Dr. John Smith',\n",
       "  'subject': 'Physics',\n",
       "  'stars': 4,\n",
       "  'review': 'Very knowledgeable, but his lectures can be a bit dry at times.'},\n",
       " {'professor': 'Dr. Jane Doe',\n",
       "  'subject': 'Chemistry',\n",
       "  'stars': 5,\n",
       "  'review': 'Excellent teacher! Makes complex concepts easy to understand.'},\n",
       " {'professor': 'Dr. Emily Johnson',\n",
       "  'subject': 'Mathematics',\n",
       "  'stars': 3,\n",
       "  'review': 'Good professor but the exams are really tough.'},\n",
       " {'professor': 'Dr. Robert Brown',\n",
       "  'subject': 'Biology',\n",
       "  'stars': 5,\n",
       "  'review': 'Great at engaging students and very approachable.'},\n",
       " {'professor': 'Dr. Linda Davis',\n",
       "  'subject': 'History',\n",
       "  'stars': 2,\n",
       "  'review': 'Lectures are not well-organized and hard to follow.'},\n",
       " {'professor': 'Dr. Michael Miller',\n",
       "  'subject': 'Computer Science',\n",
       "  'stars': 4,\n",
       "  'review': 'Good professor with a lot of real-world examples.'},\n",
       " {'professor': 'Dr. Karen Wilson',\n",
       "  'subject': 'English',\n",
       "  'stars': 3,\n",
       "  'review': 'Decent lectures, but the grading is quite harsh.'},\n",
       " {'professor': 'Dr. William Moore',\n",
       "  'subject': 'Economics',\n",
       "  'stars': 5,\n",
       "  'review': 'Fantastic professor! Very clear and concise.'},\n",
       " {'professor': 'Dr. Elizabeth Taylor',\n",
       "  'subject': 'Philosophy',\n",
       "  'stars': 4,\n",
       "  'review': 'Thought-provoking lectures but sometimes a bit too abstract.'},\n",
       " {'professor': 'Dr. Charles Anderson',\n",
       "  'subject': 'Sociology',\n",
       "  'stars': 3,\n",
       "  'review': 'Interesting content but could be more engaging.'},\n",
       " {'professor': 'Dr. Susan Thomas',\n",
       "  'subject': 'Psychology',\n",
       "  'stars': 5,\n",
       "  'review': 'Amazing professor who genuinely cares about her students.'},\n",
       " {'professor': 'Dr. James Jackson',\n",
       "  'subject': 'Political Science',\n",
       "  'stars': 2,\n",
       "  'review': 'Lectures are confusing and the material is not well-explained.'},\n",
       " {'professor': 'Dr. Patricia Harris',\n",
       "  'subject': 'Art History',\n",
       "  'stars': 4,\n",
       "  'review': 'Passionate about the subject but a bit too fast-paced.'},\n",
       " {'professor': 'Dr. Thomas Martin',\n",
       "  'subject': 'Anthropology',\n",
       "  'stars': 5,\n",
       "  'review': 'Very interesting lectures and approachable outside of class.'},\n",
       " {'professor': 'Dr. Christopher Lee',\n",
       "  'subject': 'Engineering',\n",
       "  'stars': 3,\n",
       "  'review': 'Solid professor but could improve on clarity.'},\n",
       " {'professor': 'Dr. Barbara White',\n",
       "  'subject': 'Music',\n",
       "  'stars': 4,\n",
       "  'review': 'Great professor with a lot of enthusiasm for the subject.'},\n",
       " {'professor': 'Dr. David Clark',\n",
       "  'subject': 'Environmental Science',\n",
       "  'stars': 5,\n",
       "  'review': 'Engaging and very knowledgeable about the environment.'},\n",
       " {'professor': 'Dr. Jennifer Hall',\n",
       "  'subject': 'Linguistics',\n",
       "  'stars': 3,\n",
       "  'review': 'Lectures are okay but the assignments are quite challenging.'},\n",
       " {'professor': 'Dr. Matthew Allen',\n",
       "  'subject': 'Statistics',\n",
       "  'stars': 4,\n",
       "  'review': 'Good professor who makes difficult topics easier to understand.'},\n",
       " {'professor': 'Dr. Sarah Young',\n",
       "  'subject': 'Astronomy',\n",
       "  'stars': 5,\n",
       "  'review': 'Very inspiring and makes the subject fascinating.'}]"
      ]
     },
     "execution_count": 1,
     "metadata": {},
     "output_type": "execute_result"
    }
   ],
   "source": [
    "import json\n",
    "data= json.load(open(\"reviews.json\"))\n",
    "data['reviews']"
   ]
  },
  {
   "cell_type": "code",
   "execution_count": null,
   "metadata": {},
   "outputs": [],
   "source": [
    "processed_data=[]\n",
    "genai.configure(api_key=os.environ[\"GEMINI_API_KEY\"])\n",
    "client= genai.GenerativeModel('gemini-1.5-flash')\n",
    "\n",
    "for review in data['reviews']:\n",
    "    response= client.generate_content(\n",
    "        input= review['review'], \n",
    "    )"
   ]
  }
 ],
 "metadata": {
  "kernelspec": {
   "display_name": "rag",
   "language": "python",
   "name": "python3"
  },
  "language_info": {
   "codemirror_mode": {
    "name": "ipython",
    "version": 3
   },
   "file_extension": ".py",
   "mimetype": "text/x-python",
   "name": "python",
   "nbconvert_exporter": "python",
   "pygments_lexer": "ipython3",
   "version": "3.10.14"
  }
 },
 "nbformat": 4,
 "nbformat_minor": 2
}
